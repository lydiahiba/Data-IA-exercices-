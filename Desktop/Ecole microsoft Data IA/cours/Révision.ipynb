{
 "cells": [
  {
   "cell_type": "markdown",
   "metadata": {},
   "source": [
    "\n",
    "    \n",
    "Exercice de NLP (Natural Language Processing)\n",
    "\n",
    "\n",
    "créer une class NLP qui prend à l'initialisation soit un texte, soit une url. Si c'est une URL, le texte de la page html devra être récupéré.\n",
    "\n",
    "\n",
    "texte1 = NLP(r\"Ceci est un texte test\")\n",
    "article = NLP(r\"https://www.tradingsat.com/cac-40-FR0003500008/actualites/cac-40-le-marche-parisien-repart-dans-le-rouge-les-etats-unis-inquietent-907057.html\")\n",
    "\n",
    "\n",
    "\n",
    "cette classe possède :\n",
    "- un attribut par défaut qui s'appelle \"stop_words\" et qui est une liste qui contient les mots suivants : ['le', 'la', 'les']\n",
    "- une méthode add_to_stop_word qui permet de rajouter des mots à l'attribut \"stop_words\", l'input de cette fonction est soit une string soit une liste\n",
    "- une méthode get_tokenisation qui ne prend pas d'arguments mais qui créer un attribut \"tokens\" qui est un liste des mots contenus dans le texte sans les mots présents dans l'attribut stop_words\n",
    "- une méthode get_dictionnary qui ne prend pas d'arguments et qui créer un dictionnaire qui prend en clé un mot présent dans l'attribut \"tokens\" et en valeur le nombre de fois qu'ils sont présents dans la liste \"tokens\"\n",
    "- une méthode plot_frequency qui ne prend pas d'arguments, qui execute get_tokenisation, get_dictionnary et qui plot les 15 mots les plus fréquents\n",
    "\n",
    "\n",
    "créer plusieurs instances avec des articles d'actualités qui concernent différentes thématiques (sport, économie, santé etc.) \n",
    "L'objectif est de voir si la fréquence des mots change. Si des mots sont communs aux différents sujets abordés, mettez à jour votre liste de stop_words\n",
    "\n",
    "\n",
    "Conseil : \n",
    "commencez par une inialisation par de texte, faites des fonctions et ensuite créer la classe\n",
    "\n"
   ]
  },
  {
   "cell_type": "code",
   "execution_count": 74,
   "metadata": {},
   "outputs": [],
   "source": [
    "## For text \n",
    "import matplotlib.pyplot as plt\n",
    "import re\n",
    "\n",
    "class NLP:\n",
    "    def __init__(self,texte_ou_url):\n",
    "        self.stop_words=[\"le\",\"la\",\"les\"]\n",
    "        \n",
    "        self.texte_ou_url=texte_ou_url\n",
    "       \n",
    "    def add_to_stop_word(self,texte_ou_url):\n",
    "        if type(texte) == str:\n",
    "            self.stop_words.append(texte)\n",
    "        elif type(texte)== list:\n",
    "            self.stop_words.extend(texte)\n",
    "        else:\n",
    "            print(\"format non reconnu\")\n",
    "\n",
    "    def get_tokenisation (self):\n",
    "        token=re.findall(r\"\\b\\S+\\b\",self.texte_ou_url)\n",
    "        self.token=[]\n",
    "        for i in  token :\n",
    "            if i not in self.stop_words:\n",
    "                self.token.append(i)\n",
    "        return self.token\n",
    "\n",
    "    def get_dictionnary(self):\n",
    "        self.get_tokenisation()\n",
    "        self.dictio = {}\n",
    "        for i in self.token:\n",
    "            self.dictio[i] = self.dictio.get(i, 0) + 1\n",
    "        return self.dictio\n",
    "\n",
    "    def plot_frequency(self):\n",
    "        self.get_dictionnary()\n",
    "        plt.figure(figsize=[20,15])\n",
    "        plt.bar(*zip(*sorted(self.dictio.items())))\n",
    "        plt.show()\n",
    "        "
   ]
  },
  {
   "cell_type": "code",
   "execution_count": 75,
   "metadata": {},
   "outputs": [
    {
     "data": {
      "image/png": "[encoded data removed]",
      "text/plain": [
       "<Figure size 1440x1080 with 1 Axes>"
      ]
     },
     "metadata": {
      "needs_background": "light"
     },
     "output_type": "display_data"
    }
   ],
   "source": [
    "nlp=NLP(\"Bonjour comment t'allais vous, aujourd'hui j'espére que vous allez bien\")\n",
    "nlp.plot_frequency()"
   ]
  },
  {
   "cell_type": "code",
   "execution_count": 17,
   "metadata": {
    "code_folding": []
   },
   "outputs": [
    {
     "name": "stdout",
     "output_type": "stream",
     "text": [
      "1\n",
      "1\n",
      "2\n",
      "3\n",
      "1\n",
      "1\n",
      "1\n",
      "2\n",
      "1\n"
     ]
    },
    {
     "data": {
      "text/plain": [
       "{0: 1, 1: 3, 2: 1, 3: 1, 7: 2, 23: 1}"
      ]
     },
     "execution_count": 17,
     "metadata": {},
     "output_type": "execute_result"
    }
   ],
   "source": [
    "a = (0, 1, 1, 1, 2, 3, 7, 7, 23)\n",
    "\n",
    "def count_elements(seq):\n",
    "    hist = {}\n",
    "    for i in seq:\n",
    "        hist[i] = hist.get(i, 0) + 1\n",
    "        print(hist[i])\n",
    "    return hist\n",
    "count_elements(a)"
   ]
  },
  {
   "cell_type": "code",
   "execution_count": null,
   "metadata": {},
   "outputs": [],
   "source": [
    "import matplotlib.pyplot as plt\n",
    "import re\n",
    "\n",
    "class NLP:\n",
    "    def __init__(self,texte_ou_url):\n",
    "        self.stop_words=[\"le\",\"la\",\"les\"]\n",
    "        self.texte_ou_url=texte_ou_url\n",
    "        # find the type of the input \n",
    "        if re.findall(,self.texte_ou_url)==True:\n",
    "            self.text=re.findall( ,self.texte_ou_url)\n",
    "        elif re.findall(,self.texte_ou_url)==True:\n",
    "            self.url=re.findall( ,self.texte_ou_url)\n",
    "            self.url\n",
    "        else :\n",
    "            print(\"couldn't find the type\")\n",
    "\n",
    "    def add_to_stop_word(self,texte_ou_url):\n",
    "        if type(texte) == str:\n",
    "            self.stop_words.append(texte)\n",
    "        elif type(texte)== list:\n",
    "            self.stop_words.extend(texte)\n",
    "        else:\n",
    "            print(\"format non reconnu\")\n",
    "\n",
    "    def get_tokenisation (self):\n",
    "        token=re.findall(r\"\\b\\S+\\b\",self.texte_ou_url)\n",
    "        self.token=[]\n",
    "        for i in  token :\n",
    "            if i not in self.stop_words:\n",
    "                self.token.append(i)\n",
    "        return self.token\n",
    "\n",
    "    def get_dictionnary(self):\n",
    "        self.get_tokenisation()\n",
    "        self.dictio = {}\n",
    "        for i in self.token:\n",
    "            self.dictio[i] = self.dictio.get(i, 0) + 1\n",
    "        return self.dictio\n",
    "\n",
    "    def plot_frequency(self):\n",
    "        self.get_dictionnary()\n",
    "        plt.figure(figsize=[20,15])\n",
    "        plt.bar(*zip(*sorted(self.dictio.items())))\n",
    "        plt.show()\n",
    "        "
   ]
  },
  {
   "cell_type": "code",
   "execution_count": null,
   "metadata": {},
   "outputs": [],
   "source": []
  },
  {
   "cell_type": "code",
   "execution_count": null,
   "metadata": {},
   "outputs": [],
   "source": []
  },
  {
   "cell_type": "code",
   "execution_count": null,
   "metadata": {},
   "outputs": [],
   "source": []
  },
  {
   "cell_type": "code",
   "execution_count": null,
   "metadata": {},
   "outputs": [],
   "source": []
  },
  {
   "cell_type": "code",
   "execution_count": null,
   "metadata": {},
   "outputs": [],
   "source": []
  },
  {
   "cell_type": "code",
   "execution_count": 17,
   "metadata": {},
   "outputs": [],
   "source": [
    "    def get_tokenisation(self):\n",
    "        text_to_split = self.text_url\n",
    "        for word in self.stop_words:\n",
    "            re_word = fr'\\b{word}\\b'\n",
    "            split_txt = re.compile(re_word, re.I).split(text_to_split)\n",
    "            text_to_split = \" \".join(map(lambda x: x.strip(),split_txt)).strip()\n"
   ]
  },
  {
   "cell_type": "code",
   "execution_count": 5,
   "metadata": {},
   "outputs": [
    {
     "data": {
      "text/plain": [
       "3"
      ]
     },
     "execution_count": 5,
     "metadata": {},
     "output_type": "execute_result"
    }
   ],
   "source": [
    "# # class voiture:\n",
    "# #     def __init__(self,couleur,annee):\n",
    "# #         self.couleur = couleur\n",
    "        \n",
    "# # tesla = voiture(\"noir\",3)\n",
    "# tesla.couleur\n",
    "        "
   ]
  }
 ],
 "metadata": {
  "kernelspec": {
   "display_name": "Python 3",
   "language": "python",
   "name": "python3"
  },
  "language_info": {
   "codemirror_mode": {
    "name": "ipython",
    "version": 3
   },
   "file_extension": ".py",
   "mimetype": "text/x-python",
   "name": "python",
   "nbconvert_exporter": "python",
   "pygments_lexer": "ipython3",
   "version": "3.7.4"
  },
  "varInspector": {
   "cols": {
    "lenName": 16,
    "lenType": 16,
    "lenVar": 40
   },
   "kernels_config": {
    "python": {
     "delete_cmd_postfix": "",
     "delete_cmd_prefix": "del ",
     "library": "var_list.py",
     "varRefreshCmd": "print(var_dic_list())"
    },
    "r": {
     "delete_cmd_postfix": ") ",
     "delete_cmd_prefix": "rm(",
     "library": "var_list.r",
     "varRefreshCmd": "cat(var_dic_list()) "
    }
   },
   "types_to_exclude": [
    "module",
    "function",
    "builtin_function_or_method",
    "instance",
    "_Feature"
   ],
   "window_display": false
  }
 },
 "nbformat": 4,
 "nbformat_minor": 2
}
